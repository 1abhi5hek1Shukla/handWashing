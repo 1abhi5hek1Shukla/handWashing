{
 "cells": [
  {
   "cell_type": "code",
   "execution_count": 1,
   "id": "infectious-intensity",
   "metadata": {},
   "outputs": [],
   "source": [
    "from utils import *\n",
    "import time"
   ]
  },
  {
   "cell_type": "code",
   "execution_count": 2,
   "id": "medium-proceeding",
   "metadata": {},
   "outputs": [],
   "source": [
    "# def calcRoi(singleFrame):\n",
    "#     sh = singleFrame.shape\n",
    "#     cx, cy = sh[1]//2, sh[0]//2 \n",
    "#     print(cx,cy)\n",
    "#     # t,b,l,r\n",
    "#     return [cy//2, 3*cy//2, cx//2, 3*cx//2] \n"
   ]
  },
  {
   "cell_type": "code",
   "execution_count": 6,
   "id": "valuable-reach",
   "metadata": {},
   "outputs": [
    {
     "name": "stdout",
     "output_type": "stream",
     "text": [
      "360 240\n"
     ]
    }
   ],
   "source": [
    "handWashingVideo = \"./hand_washing_ds/HandWashDataset/HandWashDataset/Step_1/HandWash_001_A_01_G01.mp4\"\n",
    "# handWashingVideo = \"./hand_washing_ds/HandWashDataset/HandWashDataset/Step_5_Right/HandWash_001_A_08_G_01.mp4\"\n",
    "# handWashingVideo = \"./vidKit.mp4\"\n",
    "\n",
    "# Display Windows\n",
    "cv2.namedWindow(\"Frame\", cv2.WINDOW_NORMAL)\n",
    "cv2.namedWindow(\"hand_seg\", cv2.WINDOW_NORMAL)\n",
    "# cv2.namedWindow(\"optical_flow_frame\", cv2.WINDOW_NORMAL)\n",
    "\n",
    "cv2.resizeWindow('Frame', 640,480)\n",
    "cv2.resizeWindow('hand_seg', 640,480)\n",
    "# cv2.resizeWindow(\"optical_flow_frame\", 640,480)\n",
    "\n",
    "\n",
    "# CAPTURE STARTED #########################################################\n",
    "cap = cv2.VideoCapture(handWashingVideo)\n",
    "\n",
    "# Kernal for opeing and clsing\n",
    "kernel = np.ones((5,5),np.uint8)\n",
    "\n",
    "\n",
    "# First frame for calc optical flow\n",
    "ret, frame1 = cap.read()\n",
    "t,b,l,r = calcRoi(frame1)\n",
    "prvs = cv2.cvtColor(frame1,cv2.COLOR_BGR2GRAY)\n",
    "# Window Display loop ###################################################################\n",
    "while True:\n",
    "    ret, frame = cap.read()\n",
    "    if not ret:\n",
    "        break\n",
    "\n",
    "    frame, segHand = get_hand_segmented(frame,kernel = kernel,threshing = True)\n",
    "\n",
    "#     nxt = cv2.cvtColor(frame,cv2.COLOR_BGR2GRAY)\n",
    "#     flow = cv2.calcOpticalFlowFarneback(prvs,nxt, None, 0.5, 3, 15, 3, 5, 1.2, 0)\n",
    "#     mag, ang = cv2.cartToPolar(flow[...,0], flow[...,1])\n",
    "\n",
    "    \n",
    "    \n",
    "#     cv2.imshow('optical_flow_frame',mag)\n",
    "    segHand[:,0:l] = 0\n",
    "    segHand[0:t,:] = 0\n",
    "    segHand[:,r:] = 0\n",
    "    segHand[b:,:] = 0\n",
    "   \n",
    "    \n",
    "\n",
    "    k = cv2.waitKey(30) & 0xff\n",
    "\n",
    "    if k ==27:\n",
    "        break\n",
    "\n",
    "#     prvs = nxt\n",
    "\n",
    "\n",
    "# Window Display loop / ##################################################################\n",
    "\n",
    "# CAPTURE CLOSED #########################################################\n",
    "cap.release()\n",
    "cv2.destroyAllWindows()"
   ]
  },
  {
   "cell_type": "code",
   "execution_count": null,
   "id": "classified-feedback",
   "metadata": {},
   "outputs": [],
   "source": []
  }
 ],
 "metadata": {
  "kernelspec": {
   "display_name": "Python 3",
   "language": "python",
   "name": "python3"
  },
  "language_info": {
   "codemirror_mode": {
    "name": "ipython",
    "version": 3
   },
   "file_extension": ".py",
   "mimetype": "text/x-python",
   "name": "python",
   "nbconvert_exporter": "python",
   "pygments_lexer": "ipython3",
   "version": "3.8.5"
  }
 },
 "nbformat": 4,
 "nbformat_minor": 5
}
