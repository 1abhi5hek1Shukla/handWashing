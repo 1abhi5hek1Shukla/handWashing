{
 "cells": [
  {
   "cell_type": "code",
   "execution_count": 18,
   "id": "likely-deadline",
   "metadata": {},
   "outputs": [],
   "source": [
    "import cv2\n",
    "import numpy as np\n",
    "import os"
   ]
  },
  {
   "cell_type": "code",
   "execution_count": 19,
   "id": "satisfactory-quilt",
   "metadata": {},
   "outputs": [],
   "source": [
    "dsPath = \"./hand_washing_ds/HandWashDataset/\""
   ]
  },
  {
   "cell_type": "code",
   "execution_count": 20,
   "id": "attended-hungarian",
   "metadata": {},
   "outputs": [],
   "source": [
    "classFolderMap = {\n",
    "    0 : 'Step_1',\n",
    "    1 : 'Step_2_Left',\n",
    "    2 : 'Step_2_Right',\n",
    "    3 : 'Step_3',\n",
    "    4 : 'Step_4_Left',\n",
    "    5 : 'Step_4_Right',\n",
    "    6 : 'Step_5_Left',\n",
    "    7 :'Step_5_Right',\n",
    "    8 : 'Step_6_Left',\n",
    "    9 :'Step_6_Right',\n",
    "    10 : 'Step_7_Left',\n",
    "    11 : 'Step_7_Right',\n",
    "}"
   ]
  },
  {
   "cell_type": "code",
   "execution_count": 21,
   "id": "foster-addition",
   "metadata": {
    "scrolled": true
   },
   "outputs": [
    {
     "name": "stdout",
     "output_type": "stream",
     "text": [
      "500\n",
      "Step_1, done\n",
      "Not enough frames in  HandWash_012_A_03_G_03.mp4\n",
      "Not enough frames in  HandWash_001_A_03_G_01.mp4\n",
      "Not enough frames in  HandWash_024_A_02_G_05.mp4\n",
      "Not enough frames in  HandWash_025_A_02_G_05.mp4\n",
      "986\n",
      "Step_2_Left, done\n",
      "Not enough frames in  HandWash_020_A_03_G_05.mp4\n",
      "Not enough frames in  HandWash_023_A_03_G_05.mp4\n",
      "Not enough frames in  HandWash_025_A_03_G_05.mp4\n",
      "Not enough frames in  HandWash_024_A_03_G_05.mp4\n",
      "Not enough frames in  HandWash_014_A_02_G_03.mp4\n",
      "1475\n",
      "Step_2_Right, done\n",
      "Not enough frames in  HandWash_024_A_04_G_05.mp4\n",
      "Not enough frames in  HandWash_016_A_04_G_04.mp4\n",
      "Not enough frames in  HandWash_025_A_04_G_05.mp4\n",
      "1967\n",
      "Step_3, done\n",
      "Not enough frames in  HandWash_019_A_05_G_05.mp4\n",
      "Not enough frames in  HandWash_025_A_05_G_05.mp4\n",
      "Not enough frames in  HandWash_013_A_05_G_03.mp4\n",
      "2460\n",
      "Step_4_Left, done\n",
      "Not enough frames in  HandWash_024_A_06_G_05.mp4\n",
      "Not enough frames in  HandWash_019_A_06_G_05.mp4\n",
      "Not enough frames in  HandWash_025_A_06_G_05.mp4\n",
      "2949\n",
      "Step_4_Right, done\n",
      "Not enough frames in  HandWash_019_A_07_G_05.mp4\n",
      "Not enough frames in  HandWash_002_A_07_G_01.mp4\n",
      "Not enough frames in  HandWash_004_A_07_G_01.mp4\n",
      "Not enough frames in  HandWash_005_A_07_G_01.mp4\n",
      "Not enough frames in  HandWash_003_A_07_G_01.mp4\n",
      "3433\n",
      "Step_5_Left, done\n",
      "Not enough frames in  HandWash_005_A_08_G_01.mp4\n",
      "Not enough frames in  HandWash_004_A_08_G_01.mp4\n",
      "Not enough frames in  HandWash_015_A_08_G_04.mp4\n",
      "Not enough frames in  HandWash_025_A_08_G_05.mp4\n",
      "Not enough frames in  HandWash_024_A_08_G_05.mp4\n",
      "Not enough frames in  HandWash_002_A_08_G_01.mp4\n",
      "Not enough frames in  HandWash_019_A_08_G_05.mp4\n",
      "3902\n",
      "Step_5_Right, done\n",
      "Not enough frames in  HandWash_001_A_09_G_01.mp4\n",
      "Not enough frames in  HandWash_024_A_09_G_05.mp4\n",
      "Not enough frames in  HandWash_013_A_09_G_03.mp4\n",
      "Not enough frames in  HandWash_025_A_09_G_05.mp4\n",
      "Not enough frames in  HandWash_009_A_09_G_02.mp4\n",
      "Not enough frames in  HandWash_023_A_09_G_05.mp4\n",
      "Not enough frames in  HandWash_002_A_09_G_01.mp4\n",
      "4376\n",
      "Step_6_Left, done\n",
      "Not enough frames in  HandWash_011_A_10_G_02.mp4\n",
      "Not enough frames in  HandWash_010_A_10_G_02.mp4\n",
      "Not enough frames in  HandWash_024_A_10_G_05.mp4\n",
      "Not enough frames in  HandWash_014_A_10_G_03.mp4\n",
      "Not enough frames in  HandWash_004_A_10_G_01.mp4\n",
      "Not enough frames in  HandWash_018_A_10_G_05.mp4\n",
      "Not enough frames in  HandWash_009_A_10_G_02.mp4\n",
      "Not enough frames in  HandWash_020_A_10_G_05.mp4\n",
      "Not enough frames in  HandWash_022_A_10_G_05.mp4\n",
      "Not enough frames in  HandWash_012_A_10_G_03.mp4\n",
      "Not enough frames in  HandWash_025_A_10_G_05.mp4\n",
      "Not enough frames in  HandWash_023_A_10_G_05.mp4\n",
      "4831\n",
      "Step_6_Right, done\n",
      "Not enough frames in  HandWash_019_A_11_G_05.mp4\n",
      "Not enough frames in  HandWash_002_A_11_G_01.mp4\n",
      "Not enough frames in  HandWash_013_A_11_G_03.mp4\n",
      "Not enough frames in  HandWash_020_A_11_G_05.mp4\n",
      "Not enough frames in  HandWash_024_A_11_G_05.mp4\n",
      "Not enough frames in  HandWash_012_A_11_G_03.mp4\n",
      "Not enough frames in  HandWash_003_A_11_G_01.mp4\n",
      "Not enough frames in  HandWash_014_A_11_G_03.mp4\n",
      "Not enough frames in  HandWash_010_A_11_G_02.mp4\n",
      "Not enough frames in  HandWash_009_A_11_G_02.mp4\n",
      "Not enough frames in  HandWash_015_A_11_G_04.mp4\n",
      "Not enough frames in  HandWash_011_A_11_G_02.mp4\n",
      "Not enough frames in  HandWash_001_A_11_G_01.mp4\n",
      "Not enough frames in  HandWash_005_A_11_G_01.mp4\n",
      "5277\n",
      "Step_7_Left, done\n",
      "Not enough frames in  HandWash_024_A_12_G_05.mp4\n",
      "Not enough frames in  HandWash_014_A_12_G_03.mp4\n",
      "Not enough frames in  HandWash_015_A_12_G_04.mp4\n",
      "Not enough frames in  HandWash_021_A_12_G_05.mp4\n",
      "Not enough frames in  HandWash_011_A_12_G_02.mp4\n",
      "Not enough frames in  HandWash_005_A_12_G_01.mp4\n",
      "Not enough frames in  HandWash_023_A_12_G_05.mp4\n",
      "Not enough frames in  HandWash_003_A_12_G_01.mp4\n",
      "Not enough frames in  HandWash_012_A_12_G_03.mp4\n",
      "Not enough frames in  HandWash_010_A_12_G_02.mp4\n",
      "Not enough frames in  HandWash_002_A_12_G_01.mp4\n",
      "Not enough frames in  HandWash_019_A_12_G_05.mp4\n",
      "Not enough frames in  HandWash_001_A_12_G_01.mp4\n",
      "Not enough frames in  HandWash_004_A_12_G_01.mp4\n",
      "5719\n",
      "Step_7_Right, done\n"
     ]
    }
   ],
   "source": [
    "img_rows,img_cols,img_depth=32,32,15\n",
    "x_set = []\n",
    "y_labels = []\n",
    "\n",
    "for key, val in classFolderMap.items():\n",
    "    videosInFolder = os.listdir(dsPath+val)\n",
    "    for vid in videosInFolder:\n",
    "        cap = cv2.VideoCapture(dsPath + val + \"/\" + vid)\n",
    "        # fps = cap.get(5)\n",
    "        # print(fps)\n",
    "        enoughFrames = True\n",
    "        \n",
    "        for bundle in range(20):\n",
    "\n",
    "            frames = []\n",
    "            for k in range(15):\n",
    "                ret, frame = cap.read()\n",
    "                if not ret:\n",
    "                    print(\"Not enough frames in \", vid)\n",
    "                    enoughFrames = False\n",
    "                    break\n",
    "                frame = cv2.resize(frame,\n",
    "                     (img_rows, img_cols), interpolation= cv2.INTER_AREA)\n",
    "                grayFrame = cv2.cvtColor(frame, cv2.COLOR_BGR2GRAY)\n",
    "                frames.append(grayFrame)\n",
    "            \n",
    "            if not enoughFrames:\n",
    "                break\n",
    "            inputs = np.array(frames)\n",
    "            ipt = np.rollaxis(np.rollaxis(inputs,2,0),2,0)\n",
    "            x_set.append(ipt)\n",
    "            y_labels.append(key)\n",
    "        cap.release()\n",
    "    print(len(y_labels))\n",
    "    print(val + \", done\")"
   ]
  },
  {
   "cell_type": "code",
   "execution_count": 25,
   "id": "arranged-candy",
   "metadata": {},
   "outputs": [
    {
     "data": {
      "text/plain": [
       "list"
      ]
     },
     "execution_count": 25,
     "metadata": {},
     "output_type": "execute_result"
    }
   ],
   "source": [
    "type(y_labels)"
   ]
  },
  {
   "cell_type": "code",
   "execution_count": 26,
   "id": "pretty-makeup",
   "metadata": {},
   "outputs": [],
   "source": [
    "x_data = np.array(x_set)\n",
    "y_data = np.array(y_labels)"
   ]
  },
  {
   "cell_type": "code",
   "execution_count": 28,
   "id": "anonymous-person",
   "metadata": {},
   "outputs": [],
   "source": [
    "numOfSamples = len(x_data)"
   ]
  },
  {
   "cell_type": "code",
   "execution_count": 29,
   "id": "mighty-standard",
   "metadata": {},
   "outputs": [
    {
     "data": {
      "text/plain": [
       "(5719, 32, 32, 15)"
      ]
     },
     "execution_count": 29,
     "metadata": {},
     "output_type": "execute_result"
    }
   ],
   "source": [
    "x_data.shape"
   ]
  },
  {
   "cell_type": "code",
   "execution_count": 33,
   "id": "corporate-retention",
   "metadata": {},
   "outputs": [],
   "source": [
    "train_set = np.zeros((numOfSamples, img_rows, img_cols, img_depth, 1))"
   ]
  },
  {
   "cell_type": "code",
   "execution_count": 34,
   "id": "related-centre",
   "metadata": {},
   "outputs": [],
   "source": [
    "for h in range(numOfSamples):\n",
    "    train_set[h,:,:,:,0]=x_data[h,:,:,:]"
   ]
  },
  {
   "cell_type": "code",
   "execution_count": 35,
   "id": "younger-resident",
   "metadata": {},
   "outputs": [],
   "source": [
    "patch_size = 15 "
   ]
  },
  {
   "cell_type": "code",
   "execution_count": 38,
   "id": "convertible-netherlands",
   "metadata": {},
   "outputs": [],
   "source": [
    "batch_size = 4\n",
    "nb_classes = 12\n",
    "nb_epoch = 50"
   ]
  },
  {
   "cell_type": "code",
   "execution_count": 39,
   "id": "integral-minnesota",
   "metadata": {},
   "outputs": [],
   "source": [
    "from keras.utils import np_utils"
   ]
  },
  {
   "cell_type": "code",
   "execution_count": 40,
   "id": "arabic-marketing",
   "metadata": {},
   "outputs": [],
   "source": [
    "y_train = np_utils.to_categorical(y_data, nb_classes)"
   ]
  },
  {
   "cell_type": "code",
   "execution_count": 41,
   "id": "respected-vinyl",
   "metadata": {},
   "outputs": [],
   "source": [
    "nb_filters = [  32,   # 1st conv layer\n",
    "                32    # 2nd\n",
    "             ]"
   ]
  },
  {
   "cell_type": "code",
   "execution_count": 42,
   "id": "missing-works",
   "metadata": {},
   "outputs": [],
   "source": [
    "train_set = train_set.astype('float32')\n",
    "train_set -= np.mean(train_set)\n",
    "train_set /= np.max(train_set)"
   ]
  },
  {
   "cell_type": "code",
   "execution_count": 44,
   "id": "polar-brake",
   "metadata": {},
   "outputs": [],
   "source": [
    "from keras.preprocessing.image import ImageDataGenerator\n",
    "from keras.models import Sequential, load_model\n",
    "from keras.layers.core import Dense, Dropout, Activation, Flatten\n",
    "from keras.layers.convolutional import Conv3D, MaxPooling3D\n",
    "from keras.layers import BatchNormalization\n",
    "from keras.optimizers import SGD, RMSprop\n",
    "from keras.utils import np_utils\n",
    "from keras.callbacks import TensorBoard"
   ]
  },
  {
   "cell_type": "code",
   "execution_count": 46,
   "id": "swiss-farming",
   "metadata": {},
   "outputs": [],
   "source": [
    "RMSprob = RMSprop(learning_rate=0.001, rho=0.9, epsilon=None, decay=0.0)"
   ]
  },
  {
   "cell_type": "markdown",
   "id": "divine-restoration",
   "metadata": {},
   "source": [
    "# Models building Basic"
   ]
  },
  {
   "cell_type": "code",
   "execution_count": 47,
   "id": "reported-restriction",
   "metadata": {},
   "outputs": [],
   "source": [
    "from sklearn.model_selection import train_test_split\n",
    "from sklearn import preprocessing\n",
    "import tensorflow as tf\n",
    "import datetime\n",
    "import pdb"
   ]
  },
  {
   "cell_type": "code",
   "execution_count": 48,
   "id": "distinct-tuner",
   "metadata": {},
   "outputs": [
    {
     "name": "stdout",
     "output_type": "stream",
     "text": [
      "input shape 32 rows 32 cols 15 patchsize\n"
     ]
    }
   ],
   "source": [
    "model = Sequential()\n",
    "print('input shape', img_rows, 'rows', img_cols, 'cols', patch_size, 'patchsize')\n",
    "model.add(Conv3D(nb_filters[0],(5,5,5),input_shape=(img_rows, img_cols,patch_size,1),activation='relu'))\n",
    "model.add(MaxPooling3D(pool_size=(3, 3, 3)))\n",
    "model.add(BatchNormalization(momentum=0.99))\n",
    "\n",
    "model.add(Conv3D(nb_filters[1],(3,3,3),activation='relu'))\n",
    "\n",
    "model.add(Flatten())\n",
    "model.add(Dense(256))\n",
    "model.add(Dropout(0.5))\n",
    "model.add(Dense(nb_classes))\n",
    "\n",
    "model.add(Activation('softmax'))\n",
    "model.compile(loss='categorical_crossentropy', optimizer='RMSprop', metrics=['mse', 'accuracy'])\n"
   ]
  },
  {
   "cell_type": "code",
   "execution_count": 49,
   "id": "distinguished-difference",
   "metadata": {},
   "outputs": [
    {
     "name": "stdout",
     "output_type": "stream",
     "text": [
      "Model: \"sequential\"\n",
      "_________________________________________________________________\n",
      "Layer (type)                 Output Shape              Param #   \n",
      "=================================================================\n",
      "conv3d (Conv3D)              (None, 28, 28, 11, 32)    4032      \n",
      "_________________________________________________________________\n",
      "max_pooling3d (MaxPooling3D) (None, 9, 9, 3, 32)       0         \n",
      "_________________________________________________________________\n",
      "batch_normalization (BatchNo (None, 9, 9, 3, 32)       128       \n",
      "_________________________________________________________________\n",
      "conv3d_1 (Conv3D)            (None, 7, 7, 1, 32)       27680     \n",
      "_________________________________________________________________\n",
      "flatten (Flatten)            (None, 1568)              0         \n",
      "_________________________________________________________________\n",
      "dense (Dense)                (None, 256)               401664    \n",
      "_________________________________________________________________\n",
      "dropout (Dropout)            (None, 256)               0         \n",
      "_________________________________________________________________\n",
      "dense_1 (Dense)              (None, 12)                3084      \n",
      "_________________________________________________________________\n",
      "activation (Activation)      (None, 12)                0         \n",
      "=================================================================\n",
      "Total params: 436,588\n",
      "Trainable params: 436,524\n",
      "Non-trainable params: 64\n",
      "_________________________________________________________________\n"
     ]
    }
   ],
   "source": [
    "model.summary()"
   ]
  },
  {
   "cell_type": "code",
   "execution_count": 50,
   "id": "bridal-pottery",
   "metadata": {},
   "outputs": [],
   "source": [
    "X_train_new, X_val_new, y_train_new,y_val_new = train_test_split(train_set, y_train,\n",
    "                                                                 test_size=0.2, random_state=4)"
   ]
  },
  {
   "cell_type": "code",
   "execution_count": 51,
   "id": "published-bookmark",
   "metadata": {},
   "outputs": [
    {
     "name": "stdout",
     "output_type": "stream",
     "text": [
      "Epoch 1/50\n",
      "1144/1144 [==============================] - 258s 206ms/step - loss: 2.8155 - mse: 0.0763 - accuracy: 0.2996 - val_loss: 0.8175 - val_mse: 0.0298 - val_accuracy: 0.7517\n",
      "Epoch 2/50\n",
      "1144/1144 [==============================] - 234s 204ms/step - loss: 0.7008 - mse: 0.0256 - accuracy: 0.7850 - val_loss: 0.3795 - val_mse: 0.0137 - val_accuracy: 0.8846\n",
      "Epoch 3/50\n",
      "1144/1144 [==============================] - 234s 205ms/step - loss: 0.4766 - mse: 0.0166 - accuracy: 0.8673 - val_loss: 0.3435 - val_mse: 0.0112 - val_accuracy: 0.9143\n",
      "Epoch 4/50\n",
      "1144/1144 [==============================] - 235s 205ms/step - loss: 0.3788 - mse: 0.0121 - accuracy: 0.9062 - val_loss: 0.3332 - val_mse: 0.0089 - val_accuracy: 0.9318\n",
      "Epoch 5/50\n",
      "1144/1144 [==============================] - 232s 203ms/step - loss: 0.3030 - mse: 0.0109 - accuracy: 0.9134 - val_loss: 0.3719 - val_mse: 0.0112 - val_accuracy: 0.9152\n",
      "Epoch 6/50\n",
      "1144/1144 [==============================] - 232s 203ms/step - loss: 0.3036 - mse: 0.0102 - accuracy: 0.9203 - val_loss: 0.2589 - val_mse: 0.0074 - val_accuracy: 0.9432\n",
      "Epoch 7/50\n",
      "1144/1144 [==============================] - 232s 203ms/step - loss: 0.2560 - mse: 0.0086 - accuracy: 0.9354 - val_loss: 0.4470 - val_mse: 0.0104 - val_accuracy: 0.9240\n",
      "Epoch 8/50\n",
      "1144/1144 [==============================] - 233s 203ms/step - loss: 0.1990 - mse: 0.0061 - accuracy: 0.9547 - val_loss: 0.2971 - val_mse: 0.0067 - val_accuracy: 0.9502\n",
      "Epoch 9/50\n",
      "1144/1144 [==============================] - 232s 203ms/step - loss: 0.1865 - mse: 0.0060 - accuracy: 0.9519 - val_loss: 0.3603 - val_mse: 0.0087 - val_accuracy: 0.9371\n",
      "Epoch 10/50\n",
      "1144/1144 [==============================] - 233s 203ms/step - loss: 0.1609 - mse: 0.0052 - accuracy: 0.9638 - val_loss: 0.3462 - val_mse: 0.0055 - val_accuracy: 0.9589\n",
      "Epoch 11/50\n",
      "1144/1144 [==============================] - 232s 203ms/step - loss: 0.1742 - mse: 0.0054 - accuracy: 0.9615 - val_loss: 0.3084 - val_mse: 0.0051 - val_accuracy: 0.9624\n",
      "Epoch 12/50\n",
      "1144/1144 [==============================] - 238s 208ms/step - loss: 0.1708 - mse: 0.0049 - accuracy: 0.9624 - val_loss: 0.2352 - val_mse: 0.0053 - val_accuracy: 0.9650\n",
      "Epoch 13/50\n",
      "1144/1144 [==============================] - 236s 206ms/step - loss: 0.1642 - mse: 0.0044 - accuracy: 0.9685 - val_loss: 0.2356 - val_mse: 0.0046 - val_accuracy: 0.9668\n",
      "Epoch 14/50\n",
      "1144/1144 [==============================] - 235s 205ms/step - loss: 0.1168 - mse: 0.0037 - accuracy: 0.9749 - val_loss: 0.2954 - val_mse: 0.0055 - val_accuracy: 0.9615\n",
      "Epoch 15/50\n",
      "1144/1144 [==============================] - 235s 205ms/step - loss: 0.1599 - mse: 0.0044 - accuracy: 0.9674 - val_loss: 0.2659 - val_mse: 0.0046 - val_accuracy: 0.9677\n",
      "Epoch 16/50\n",
      "1144/1144 [==============================] - 235s 205ms/step - loss: 0.1227 - mse: 0.0033 - accuracy: 0.9757 - val_loss: 0.2483 - val_mse: 0.0040 - val_accuracy: 0.9703\n",
      "Epoch 17/50\n",
      "1144/1144 [==============================] - 235s 205ms/step - loss: 0.1070 - mse: 0.0028 - accuracy: 0.9807 - val_loss: 0.3043 - val_mse: 0.0040 - val_accuracy: 0.9738\n",
      "Epoch 18/50\n",
      "1144/1144 [==============================] - 235s 205ms/step - loss: 0.1205 - mse: 0.0032 - accuracy: 0.9769 - val_loss: 0.2516 - val_mse: 0.0032 - val_accuracy: 0.9773\n",
      "Epoch 19/50\n",
      "1144/1144 [==============================] - 235s 206ms/step - loss: 0.1369 - mse: 0.0034 - accuracy: 0.9760 - val_loss: 0.3685 - val_mse: 0.0041 - val_accuracy: 0.9738\n",
      "Epoch 20/50\n",
      "1144/1144 [==============================] - 235s 205ms/step - loss: 0.1010 - mse: 0.0022 - accuracy: 0.9847 - val_loss: 0.3625 - val_mse: 0.0042 - val_accuracy: 0.9729\n",
      "Epoch 21/50\n",
      "1144/1144 [==============================] - 235s 205ms/step - loss: 0.0775 - mse: 0.0024 - accuracy: 0.9823 - val_loss: 0.3778 - val_mse: 0.0050 - val_accuracy: 0.9642\n",
      "Epoch 22/50\n",
      "1144/1144 [==============================] - 235s 205ms/step - loss: 0.0986 - mse: 0.0027 - accuracy: 0.9799 - val_loss: 0.5643 - val_mse: 0.0074 - val_accuracy: 0.9502\n",
      "Epoch 23/50\n",
      "1144/1144 [==============================] - 235s 205ms/step - loss: 0.1157 - mse: 0.0025 - accuracy: 0.9830 - val_loss: 0.3712 - val_mse: 0.0037 - val_accuracy: 0.9764\n",
      "Epoch 24/50\n",
      "1144/1144 [==============================] - 235s 205ms/step - loss: 0.0792 - mse: 0.0020 - accuracy: 0.9856 - val_loss: 0.3900 - val_mse: 0.0032 - val_accuracy: 0.9799\n",
      "Epoch 25/50\n",
      "1144/1144 [==============================] - 235s 205ms/step - loss: 0.0935 - mse: 0.0022 - accuracy: 0.9853 - val_loss: 0.4171 - val_mse: 0.0035 - val_accuracy: 0.9781\n",
      "Epoch 26/50\n",
      "1144/1144 [==============================] - 237s 207ms/step - loss: 0.0801 - mse: 0.0019 - accuracy: 0.9859 - val_loss: 0.7025 - val_mse: 0.0065 - val_accuracy: 0.9589\n",
      "Epoch 27/50\n",
      "1144/1144 [==============================] - 237s 207ms/step - loss: 0.1104 - mse: 0.0019 - accuracy: 0.9876 - val_loss: 0.5020 - val_mse: 0.0052 - val_accuracy: 0.9650\n",
      "Epoch 28/50\n",
      "1144/1144 [==============================] - 236s 206ms/step - loss: 0.1311 - mse: 0.0025 - accuracy: 0.9838 - val_loss: 0.4013 - val_mse: 0.0038 - val_accuracy: 0.9738\n",
      "Epoch 29/50\n",
      "1144/1144 [==============================] - 236s 206ms/step - loss: 0.0880 - mse: 0.0016 - accuracy: 0.9890 - val_loss: 0.3949 - val_mse: 0.0049 - val_accuracy: 0.9685\n",
      "Epoch 30/50\n",
      "1144/1144 [==============================] - 236s 206ms/step - loss: 0.0983 - mse: 0.0017 - accuracy: 0.9884 - val_loss: 0.3861 - val_mse: 0.0034 - val_accuracy: 0.9790\n",
      "Epoch 31/50\n",
      "1144/1144 [==============================] - 236s 206ms/step - loss: 0.0927 - mse: 0.0018 - accuracy: 0.9878 - val_loss: 0.4238 - val_mse: 0.0032 - val_accuracy: 0.9808\n",
      "Epoch 32/50\n",
      "1144/1144 [==============================] - 236s 207ms/step - loss: 0.0551 - mse: 0.0017 - accuracy: 0.9881 - val_loss: 0.4352 - val_mse: 0.0035 - val_accuracy: 0.9781\n",
      "Epoch 33/50\n",
      "1144/1144 [==============================] - 236s 206ms/step - loss: 0.0812 - mse: 0.0012 - accuracy: 0.9927 - val_loss: 0.3654 - val_mse: 0.0032 - val_accuracy: 0.9799\n",
      "Epoch 34/50\n",
      "1144/1144 [==============================] - 236s 206ms/step - loss: 0.0766 - mse: 0.0015 - accuracy: 0.9899 - val_loss: 0.3737 - val_mse: 0.0038 - val_accuracy: 0.9755\n",
      "Epoch 35/50\n",
      "1144/1144 [==============================] - 236s 207ms/step - loss: 0.0522 - mse: 0.0012 - accuracy: 0.9911 - val_loss: 0.4898 - val_mse: 0.0044 - val_accuracy: 0.9720\n",
      "Epoch 36/50\n",
      "1144/1144 [==============================] - 236s 206ms/step - loss: 0.1232 - mse: 0.0021 - accuracy: 0.9862 - val_loss: 0.5536 - val_mse: 0.0034 - val_accuracy: 0.9773\n",
      "Epoch 37/50\n",
      "1144/1144 [==============================] - 236s 207ms/step - loss: 0.0382 - mse: 8.5098e-04 - accuracy: 0.9943 - val_loss: 0.5850 - val_mse: 0.0054 - val_accuracy: 0.9659\n",
      "Epoch 38/50\n",
      "1144/1144 [==============================] - 235s 206ms/step - loss: 0.0761 - mse: 0.0016 - accuracy: 0.9891 - val_loss: 0.3728 - val_mse: 0.0032 - val_accuracy: 0.9799\n",
      "Epoch 39/50\n",
      "1144/1144 [==============================] - 236s 206ms/step - loss: 0.0219 - mse: 5.7596e-04 - accuracy: 0.9956 - val_loss: 0.5480 - val_mse: 0.0035 - val_accuracy: 0.9790\n",
      "Epoch 40/50\n",
      "1144/1144 [==============================] - 236s 206ms/step - loss: 0.0469 - mse: 6.2702e-04 - accuracy: 0.9955 - val_loss: 0.3836 - val_mse: 0.0030 - val_accuracy: 0.9816\n",
      "Epoch 41/50\n",
      "1144/1144 [==============================] - 235s 206ms/step - loss: 0.1078 - mse: 0.0016 - accuracy: 0.9898 - val_loss: 0.6164 - val_mse: 0.0045 - val_accuracy: 0.9712\n",
      "Epoch 42/50\n",
      "1144/1144 [==============================] - 235s 206ms/step - loss: 0.0433 - mse: 9.9309e-04 - accuracy: 0.9924 - val_loss: 0.4848 - val_mse: 0.0031 - val_accuracy: 0.9781\n",
      "Epoch 43/50\n",
      "1144/1144 [==============================] - 235s 206ms/step - loss: 0.0323 - mse: 7.7656e-04 - accuracy: 0.9944 - val_loss: 0.4324 - val_mse: 0.0036 - val_accuracy: 0.9773\n",
      "Epoch 44/50\n",
      "1144/1144 [==============================] - 235s 205ms/step - loss: 0.0306 - mse: 7.0344e-04 - accuracy: 0.9954 - val_loss: 0.4900 - val_mse: 0.0035 - val_accuracy: 0.9773\n",
      "Epoch 45/50\n",
      "1144/1144 [==============================] - 235s 205ms/step - loss: 0.0594 - mse: 8.1694e-04 - accuracy: 0.9949 - val_loss: 0.4272 - val_mse: 0.0028 - val_accuracy: 0.9816\n",
      "Epoch 46/50\n"
     ]
    },
    {
     "name": "stdout",
     "output_type": "stream",
     "text": [
      "1144/1144 [==============================] - 232s 202ms/step - loss: 0.0634 - mse: 9.9247e-04 - accuracy: 0.9939 - val_loss: 0.3705 - val_mse: 0.0023 - val_accuracy: 0.9860\n",
      "Epoch 47/50\n",
      "1144/1144 [==============================] - 232s 202ms/step - loss: 0.0541 - mse: 9.2307e-04 - accuracy: 0.9938 - val_loss: 0.3503 - val_mse: 0.0026 - val_accuracy: 0.9843\n",
      "Epoch 48/50\n",
      "1144/1144 [==============================] - 232s 203ms/step - loss: 0.0407 - mse: 9.6789e-04 - accuracy: 0.9937 - val_loss: 0.5144 - val_mse: 0.0030 - val_accuracy: 0.9816\n",
      "Epoch 49/50\n",
      "1144/1144 [==============================] - 232s 203ms/step - loss: 0.0720 - mse: 9.6650e-04 - accuracy: 0.9932 - val_loss: 0.5467 - val_mse: 0.0033 - val_accuracy: 0.9790\n",
      "Epoch 50/50\n",
      "1144/1144 [==============================] - 232s 203ms/step - loss: 0.0647 - mse: 9.7449e-04 - accuracy: 0.9940 - val_loss: 0.4546 - val_mse: 0.0035 - val_accuracy: 0.9773\n"
     ]
    }
   ],
   "source": [
    "hist = model.fit(X_train_new,\n",
    "\t\t\t    y_train_new,\n",
    "\t\t\t    validation_data=(X_val_new,y_val_new),\n",
    "\t\t\t    batch_size=batch_size,\n",
    "\t\t\t    epochs = nb_epoch,\n",
    "\t\t\t    shuffle=True,\n",
    "\t\t\t    callbacks=[TensorBoard(log_dir='./log')] )#tensorboard --logdir=./log"
   ]
  },
  {
   "cell_type": "code",
   "execution_count": 52,
   "id": "conscious-bones",
   "metadata": {},
   "outputs": [],
   "source": [
    "now = str(datetime.datetime.now()).split('.')[0]\n",
    "model.save('./models/'+now+\"-model.h5\")"
   ]
  },
  {
   "cell_type": "code",
   "execution_count": 54,
   "id": "engaging-venture",
   "metadata": {},
   "outputs": [
    {
     "name": "stdout",
     "output_type": "stream",
     "text": [
      "286/286 [==============================] - 7s 23ms/step - loss: 0.4546 - mse: 0.0035 - accuracy: 0.9773\n",
      "**********************************************\n",
      "Test score: [0.4546187222003937, 0.003497058292850852, 0.9772727489471436]\n",
      "History {'loss': [1.7779598236083984, 0.6425966024398804, 0.4514773190021515, 0.3581755757331848, 0.3030051589012146, 0.26551660895347595, 0.250520795583725, 0.2304605096578598, 0.2121354043483734, 0.18522176146507263, 0.1861191689968109, 0.1786932647228241, 0.17971284687519073, 0.14842523634433746, 0.16007228195667267, 0.1277974247932434, 0.11197154968976974, 0.11234736442565918, 0.09926901757717133, 0.09972324222326279, 0.08735731244087219, 0.09762334078550339, 0.11538712680339813, 0.07950188964605331, 0.0954858660697937, 0.08612161129713058, 0.09914933890104294, 0.10078944265842438, 0.07781572639942169, 0.0757206380367279, 0.09518367052078247, 0.05423225834965706, 0.08445937186479568, 0.08089060336351395, 0.04388180002570152, 0.08566810190677643, 0.05767488852143288, 0.060044385492801666, 0.042786724865436554, 0.06913800537586212, 0.08434513956308365, 0.042941465973854065, 0.04031149670481682, 0.05470053851604462, 0.05862388014793396, 0.07263798266649246, 0.05889861285686493, 0.0587204247713089, 0.07122530043125153, 0.04826563596725464], 'mse': [0.055291179567575455, 0.02301904559135437, 0.01570996642112732, 0.011797766201198101, 0.010522997938096523, 0.00867613684386015, 0.00819594506174326, 0.006906106602400541, 0.0064028180204331875, 0.005474415607750416, 0.005244080908596516, 0.0052368007600307465, 0.00478840246796608, 0.004038731101900339, 0.004363059997558594, 0.0035968662705272436, 0.003020593896508217, 0.0030653509311378, 0.002794201485812664, 0.002238461747765541, 0.002431014319881797, 0.002264413982629776, 0.002584075089544058, 0.002073738956823945, 0.0022585636470466852, 0.0017956094816327095, 0.0015584476059302688, 0.002222710056230426, 0.0016586541896685958, 0.001414181781001389, 0.0018241415964439511, 0.0015739703085273504, 0.0014836277114227414, 0.0014505541184917092, 0.0010086761321872473, 0.0017188009805977345, 0.001095680403523147, 0.001303542754612863, 0.000828527205158025, 0.000988760031759739, 0.0015609227120876312, 0.0008060730760917068, 0.0007613530615344644, 0.0010256238747388124, 0.0009249123395420611, 0.00121174321975559, 0.0010420294711366296, 0.0011833737371489406, 0.001038017449900508, 0.0009797393577173352], 'accuracy': [0.4970491826534271, 0.8089617490768433, 0.8734426498413086, 0.9086338877677917, 0.9184699654579163, 0.9322404265403748, 0.9374863505363464, 0.9488524794578552, 0.9514753818511963, 0.9615300297737122, 0.9632787108421326, 0.9606557488441467, 0.9654644727706909, 0.970928966999054, 0.9683060050010681, 0.9737704992294312, 0.9785792231559753, 0.9787977933883667, 0.9801092743873596, 0.9842622876167297, 0.9831693768501282, 0.9836065769195557, 0.9820765256881714, 0.9855737686157227, 0.9842622876167297, 0.9871038198471069, 0.9895082116127014, 0.9853551983833313, 0.9879781603813171, 0.9901639223098755, 0.9868852496147156, 0.9886338710784912, 0.990601122379303, 0.9897267818450928, 0.99256831407547, 0.9886338710784912, 0.9927868843078613, 0.9910382628440857, 0.9940983653068542, 0.993224024772644, 0.9901639223098755, 0.9940983653068542, 0.9947540760040283, 0.993224024772644, 0.9940983653068542, 0.9923497438430786, 0.9930054545402527, 0.99256831407547, 0.993224024772644, 0.9936612248420715], 'val_loss': [0.817529022693634, 0.37945011258125305, 0.3435104787349701, 0.3332272469997406, 0.3718796968460083, 0.25893929600715637, 0.44704118371009827, 0.29708176851272583, 0.3602707087993622, 0.34624290466308594, 0.3083942234516144, 0.23519232869148254, 0.23564063012599945, 0.2954290807247162, 0.2659108340740204, 0.24833105504512787, 0.3042658269405365, 0.251598060131073, 0.3685291111469269, 0.362521767616272, 0.37776997685432434, 0.5642539858818054, 0.37120670080184937, 0.3900047242641449, 0.41709601879119873, 0.7024716734886169, 0.5020232200622559, 0.4012826085090637, 0.39486196637153625, 0.38612574338912964, 0.4238135516643524, 0.4352024793624878, 0.36535319685935974, 0.37374651432037354, 0.4898398816585541, 0.5536212921142578, 0.584957480430603, 0.37283387780189514, 0.5479962825775146, 0.38359954953193665, 0.6164270043373108, 0.48475950956344604, 0.4324057698249817, 0.4899580776691437, 0.4272032678127289, 0.3705487549304962, 0.35033079981803894, 0.514387845993042, 0.5466813445091248, 0.4546187222003937], 'val_mse': [0.029779603704810143, 0.013733319006860256, 0.011184709146618843, 0.008884313516318798, 0.011219541542232037, 0.00736742839217186, 0.010352867655456066, 0.006727311760187149, 0.008741814643144608, 0.005489030387252569, 0.005114387255162001, 0.005271310918033123, 0.004583984613418579, 0.005476214922964573, 0.004638860002160072, 0.004024447873234749, 0.004013445228338242, 0.0032452058512717485, 0.004055712837725878, 0.004155841190367937, 0.004967767279595137, 0.007426136638969183, 0.0037136636674404144, 0.0032238601706922054, 0.0035448106937110424, 0.006530639249831438, 0.005224236287176609, 0.003820887068286538, 0.004915700294077396, 0.0033946640323847532, 0.0031719340477138758, 0.003496551886200905, 0.003231474431231618, 0.00380447949282825, 0.004432734567672014, 0.0034182460512965918, 0.005383786745369434, 0.0032386821694672108, 0.0035208601038903, 0.003044516546651721, 0.00448543019592762, 0.003149176947772503, 0.0035715827252715826, 0.003538859076797962, 0.002791315782815218, 0.0023092888295650482, 0.002557358704507351, 0.002966592088341713, 0.00333777186460793, 0.003497058292850852], 'val_accuracy': [0.751748263835907, 0.8846153616905212, 0.9143356680870056, 0.9318181872367859, 0.9152097702026367, 0.9431818127632141, 0.9239510297775269, 0.9501748085021973, 0.9370629191398621, 0.9589160680770874, 0.9624125957489014, 0.9650349617004395, 0.9667832255363464, 0.9615384340286255, 0.9676573276519775, 0.9702796936035156, 0.9737762212753296, 0.9772727489471436, 0.9737762212753296, 0.9729021191596985, 0.9641608595848083, 0.9501748085021973, 0.9763985872268677, 0.9798951148986816, 0.9781468510627747, 0.9589160680770874, 0.9650349617004395, 0.9737762212753296, 0.9685314893722534, 0.9790209531784058, 0.9807692170143127, 0.9781468510627747, 0.9798951148986816, 0.9755244851112366, 0.9720279574394226, 0.9772727489471436, 0.9659090638160706, 0.9798951148986816, 0.9790209531784058, 0.9816433787345886, 0.9711538553237915, 0.9781468510627747, 0.9772727489471436, 0.9772727489471436, 0.9816433787345886, 0.9860140085220337, 0.9842657446861267, 0.9816433787345886, 0.9790209531784058, 0.9772727489471436]}\n"
     ]
    }
   ],
   "source": [
    "score = model.evaluate(X_val_new,y_val_new,batch_size=batch_size)\n",
    "# Print the results\n",
    "print('**********************************************')\n",
    "print('Test score:', score)\n",
    "print('History', hist.history)"
   ]
  },
  {
   "cell_type": "code",
   "execution_count": null,
   "id": "checked-bottle",
   "metadata": {},
   "outputs": [],
   "source": []
  },
  {
   "cell_type": "code",
   "execution_count": 56,
   "id": "identified-raising",
   "metadata": {},
   "outputs": [
    {
     "data": {
      "image/png": "[encoded data removed]",
      "text/plain": [
       "<Figure size 432x288 with 1 Axes>"
      ]
     },
     "metadata": {
      "needs_background": "light"
     },
     "output_type": "display_data"
    },
    {
     "data": {
      "image/png": "[encoded data removed]",
      "text/plain": [
       "<Figure size 432x288 with 1 Axes>"
      ]
     },
     "metadata": {
      "needs_background": "light"
     },
     "output_type": "display_data"
    }
   ],
   "source": [
    "import matplotlib.pyplot as plt\n",
    "plt.figure(1)\n",
    "plt.plot(hist.history['loss'])\n",
    "plt.plot(hist.history['val_loss'])\n",
    "plt.legend(['training', 'validation'])\n",
    "plt.title(\"Loss\")\n",
    "plt.xlabel(\"Epoch\")\n",
    "\n",
    "plt.figure(2)\n",
    "plt.plot(hist.history['accuracy'])\n",
    "plt.plot(hist.history['val_accuracy'])\n",
    "plt.legend(['training', 'validation'])\n",
    "plt.title(\"Accuracy\")\n",
    "plt.xlabel(\"Epoch\")\n",
    "\n",
    "plt.show()\n"
   ]
  },
  {
   "cell_type": "code",
   "execution_count": null,
   "id": "nearby-breach",
   "metadata": {},
   "outputs": [],
   "source": []
  },
  {
   "cell_type": "code",
   "execution_count": 57,
   "id": "angry-community",
   "metadata": {},
   "outputs": [],
   "source": [
    "import sys,pdb,natsort"
   ]
  },
  {
   "cell_type": "code",
   "execution_count": 58,
   "id": "future-midwest",
   "metadata": {},
   "outputs": [],
   "source": [
    "files = os.listdir('./test/')"
   ]
  },
  {
   "cell_type": "code",
   "execution_count": 59,
   "id": "continental-exclusion",
   "metadata": {},
   "outputs": [],
   "source": [
    "nb_files = len(files)\n"
   ]
  },
  {
   "cell_type": "code",
   "execution_count": 61,
   "id": "traditional-madrid",
   "metadata": {},
   "outputs": [
    {
     "name": "stdout",
     "output_type": "stream",
     "text": [
      "number of files:2\n"
     ]
    }
   ],
   "source": [
    "print('number of files:%s'%(nb_files))\n",
    "files = natsort.natsorted(files)"
   ]
  },
  {
   "cell_type": "code",
   "execution_count": 62,
   "id": "still-runner",
   "metadata": {},
   "outputs": [],
   "source": [
    "lets_test_for = []"
   ]
  },
  {
   "cell_type": "code",
   "execution_count": 63,
   "id": "divided-explorer",
   "metadata": {},
   "outputs": [],
   "source": [
    "for f in files: \n",
    "    frames = []\n",
    "    path = './test/'+f\n",
    "    cap = cv2.VideoCapture(path)\n",
    "    fps = cap.get(5)\n",
    "    img_rows,img_cols,img_depth=32,32,15\n",
    "    for k in range(15):\n",
    "        ret, frame = cap.read()\n",
    "        frame=cv2.resize(frame,(img_rows,img_cols),interpolation=cv2.INTER_AREA)\n",
    "        gray = cv2.cvtColor(frame, cv2.COLOR_BGR2GRAY)\n",
    "        frames.append(gray)\n",
    "        if cv2.waitKey(1) & 0xFF == ord('q'):\n",
    "            break\n",
    "    cap.release()\n",
    "    cv2.destroyAllWindows()\n",
    "    inputs=np.array(frames)\n",
    "    ipt=np.rollaxis(np.rollaxis(inputs,2,0),2,0)\n",
    "    lets_test_for.append(ipt)\n",
    "\n",
    "lets_test_for = np.array(lets_test_for)"
   ]
  },
  {
   "cell_type": "code",
   "execution_count": 64,
   "id": "promotional-layout",
   "metadata": {},
   "outputs": [],
   "source": [
    "test_set = np.zeros((nb_files, img_rows, img_cols, img_depth, 1))"
   ]
  },
  {
   "cell_type": "code",
   "execution_count": 65,
   "id": "composite-position",
   "metadata": {},
   "outputs": [],
   "source": [
    "for i in range(nb_files):\n",
    "\ttest_set[i,:,:,:,0]=lets_test_for[i,:,:,:]"
   ]
  },
  {
   "cell_type": "code",
   "execution_count": 66,
   "id": "valued-killing",
   "metadata": {},
   "outputs": [],
   "source": [
    "test_set = test_set.astype('float32')\n",
    "test_set -= np.mean(test_set)\n",
    "test_set /= np.max(test_set)"
   ]
  },
  {
   "cell_type": "code",
   "execution_count": 67,
   "id": "industrial-component",
   "metadata": {},
   "outputs": [],
   "source": [
    "results = []#predict results"
   ]
  },
  {
   "cell_type": "code",
   "execution_count": 68,
   "id": "atomic-hometown",
   "metadata": {},
   "outputs": [],
   "source": [
    "y = model.predict(test_set)"
   ]
  },
  {
   "cell_type": "code",
   "execution_count": 70,
   "id": "changed-timothy",
   "metadata": {},
   "outputs": [
    {
     "name": "stdout",
     "output_type": "stream",
     "text": [
      "File names | Predict labels\n",
      "('HandWash_004_A_01_G01.mp4', 'Step_1')\n",
      "('HandWash_007_A_08_G_01.mp4', 'Step_5_Right')\n"
     ]
    }
   ],
   "source": [
    "for j in range(nb_files):\n",
    "    index = np.argmax(y[j])\n",
    "    action = classFolderMap[index]\n",
    "    results.append(action)\n",
    "print(\"File names | Predict labels\")\n",
    "\n",
    "\n",
    "for pair in zip(files,results):\n",
    "    print(pair)"
   ]
  },
  {
   "cell_type": "code",
   "execution_count": null,
   "id": "juvenile-neutral",
   "metadata": {},
   "outputs": [],
   "source": []
  }
 ],
 "metadata": {
  "kernelspec": {
   "display_name": "Python 3",
   "language": "python",
   "name": "python3"
  },
  "language_info": {
   "codemirror_mode": {
    "name": "ipython",
    "version": 3
   },
   "file_extension": ".py",
   "mimetype": "text/x-python",
   "name": "python",
   "nbconvert_exporter": "python",
   "pygments_lexer": "ipython3",
   "version": "3.8.5"
  }
 },
 "nbformat": 4,
 "nbformat_minor": 5
}
