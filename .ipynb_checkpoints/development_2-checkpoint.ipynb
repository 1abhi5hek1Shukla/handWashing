{
 "cells": [
  {
   "cell_type": "code",
   "execution_count": 6,
   "id": "likely-deadline",
   "metadata": {},
   "outputs": [],
   "source": [
    "import cv2\n",
    "import numpy as np\n",
    "import os"
   ]
  },
  {
   "cell_type": "code",
   "execution_count": 7,
   "id": "capital-official",
   "metadata": {},
   "outputs": [],
   "source": [
    "dsPath = \"./hand_washing_ds/HandWashDataset/\""
   ]
  },
  {
   "cell_type": "code",
   "execution_count": 10,
   "id": "impaired-newcastle",
   "metadata": {},
   "outputs": [],
   "source": [
    "# classFolderMap = {\n",
    "#     0 : 'Step_1',\n",
    "#     1 : 'Step_2_Left',\n",
    "#     2 : 'Step_2_Right',\n",
    "#     3 : 'Step_3',\n",
    "#     4 : 'Step_4_Left',\n",
    "#     5 : 'Step_4_Right',\n",
    "#     6 : 'Step_5_Left',\n",
    "#     7 :'Step_5_Right',\n",
    "#     8 : 'Step_6_Left',\n",
    "\n",
    "#     9 :'Step_6_Right',\n",
    "classFolderMap = {\n",
    "    10 : 'Step_7_Left',\n",
    "    11 : 'Step_7_Right',\n",
    "}"
   ]
  },
  {
   "cell_type": "code",
   "execution_count": 15,
   "id": "fossil-output",
   "metadata": {},
   "outputs": [
    {
     "ename": "KeyboardInterrupt",
     "evalue": "",
     "output_type": "error",
     "traceback": [
      "\u001b[0;31m---------------------------------------------------------------------------\u001b[0m",
      "\u001b[0;31mKeyboardInterrupt\u001b[0m                         Traceback (most recent call last)",
      "\u001b[0;32m<ipython-input-15-cb2cc579d7f2>\u001b[0m in \u001b[0;36m<module>\u001b[0;34m\u001b[0m\n\u001b[1;32m     18\u001b[0m                     \u001b[0mflag\u001b[0m \u001b[0;34m=\u001b[0m \u001b[0;32mFalse\u001b[0m\u001b[0;34m\u001b[0m\u001b[0;34m\u001b[0m\u001b[0m\n\u001b[1;32m     19\u001b[0m                     \u001b[0;32mbreak\u001b[0m\u001b[0;34m\u001b[0m\u001b[0;34m\u001b[0m\u001b[0m\n\u001b[0;32m---> 20\u001b[0;31m                 frame = cv2.resize(frame,\n\u001b[0m\u001b[1;32m     21\u001b[0m                      (img_rows, img_cols), interpolation= cv2.INTER_AREA)\n\u001b[1;32m     22\u001b[0m                 \u001b[0mgrayFrame\u001b[0m \u001b[0;34m=\u001b[0m \u001b[0mcv2\u001b[0m\u001b[0;34m.\u001b[0m\u001b[0mcvtColor\u001b[0m\u001b[0;34m(\u001b[0m\u001b[0mframe\u001b[0m\u001b[0;34m,\u001b[0m \u001b[0mcv2\u001b[0m\u001b[0;34m.\u001b[0m\u001b[0mCOLOR_BGR2GRAY\u001b[0m\u001b[0;34m)\u001b[0m\u001b[0;34m\u001b[0m\u001b[0;34m\u001b[0m\u001b[0m\n",
      "\u001b[0;31mKeyboardInterrupt\u001b[0m: "
     ]
    }
   ],
   "source": [
    "img_rows,img_cols,img_depth=32,32,15\n",
    "x_set = []\n",
    "y_labels = []\n",
    "\n",
    "for key, val in classFolderMap.items():\n",
    "    videosInFolder = os.listdir(dsPath+val)\n",
    "    for vid in videosInFolder:\n",
    "        cap = cv2.VideoCapture(dsPath + val + \"/\" + vid)\n",
    "        # fps = cap.get(5)\n",
    "        # print(fps)\n",
    "        flag = True\n",
    "        for bundle in range(8):\n",
    "\n",
    "            frames = []\n",
    "            for k in range(15):\n",
    "                ret, frame = cap.read()\n",
    "                if not ret:\n",
    "                    print(\"Not enough frames in \", vid)\n",
    "                    flag = False\n",
    "                    break\n",
    "                frame = cv2.resize(frame,\n",
    "                     (img_rows, img_cols), interpolation= cv2.INTER_AREA)\n",
    "                grayFrame = cv2.cvtColor(frame, cv2.COLOR_BGR2GRAY)\n",
    "                frames.append(grayFrame)\n",
    "            inputs = np.array(frames)\n",
    "            ipt = np.rollaxis(np.rollaxis(inputs,2,0),2,0)\n",
    "            x_set.append(ipt)\n",
    "            y_labels.append(key)\n",
    "        cap.release()\n",
    "    print(len(y_labels))\n",
    "    print(val + \", done\")"
   ]
  },
  {
   "cell_type": "code",
   "execution_count": null,
   "id": "whole-alloy",
   "metadata": {},
   "outputs": [],
   "source": []
  }
 ],
 "metadata": {
  "kernelspec": {
   "display_name": "Python 3",
   "language": "python",
   "name": "python3"
  },
  "language_info": {
   "codemirror_mode": {
    "name": "ipython",
    "version": 3
   },
   "file_extension": ".py",
   "mimetype": "text/x-python",
   "name": "python",
   "nbconvert_exporter": "python",
   "pygments_lexer": "ipython3",
   "version": "3.8.5"
  }
 },
 "nbformat": 4,
 "nbformat_minor": 5
}
