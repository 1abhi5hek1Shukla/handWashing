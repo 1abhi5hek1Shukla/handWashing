{
 "cells": [
  {
   "cell_type": "code",
   "execution_count": 21,
   "id": "incomplete-palmer",
   "metadata": {},
   "outputs": [],
   "source": [
    "from utils import *\n",
    "import time\n"
   ]
  },
  {
   "cell_type": "code",
   "execution_count": 48,
   "id": "civilian-lincoln",
   "metadata": {},
   "outputs": [],
   "source": [
    "# handWashingVideo = \"./hand_washing_ds/HandWashDataset/HandWashDataset/Step_1/HandWash_001_A_01_G01.mp4\"\n",
    "handWashingVideo = \"./hand_washing_ds/HandWashDataset/HandWashDataset/Step_5_Right/HandWash_001_A_08_G_01.mp4\"\n",
    "# handWashingVideo = \"./vidKit.mp4\"\n"
   ]
  },
  {
   "cell_type": "code",
   "execution_count": 49,
   "id": "liked-reflection",
   "metadata": {},
   "outputs": [],
   "source": [
    "def get_hand_segmented(frame):\n",
    "    frame = greyWorld(frame)\n",
    "    f, i = getPixMap(frame)\n",
    "    ret, thresh = cv2.threshold(f,t,255, cv2.THRESH_BINARY)\n",
    "\n",
    "    opening = cv2.morphologyEx(thresh, cv2.MORPH_OPEN, kernel)\n",
    "    return frame, opening"
   ]
  },
  {
   "cell_type": "code",
   "execution_count": 50,
   "id": "northern-option",
   "metadata": {},
   "outputs": [],
   "source": [
    "cv2.namedWindow(\"Frame\", cv2.WINDOW_NORMAL)\n",
    "# cv2.namedWindow(\"Diff Frame\", cv2.WINDOW_NORMAL)\n",
    "cv2.namedWindow(\"Frame_2\", cv2.WINDOW_NORMAL)\n",
    "\n",
    "cv2.resizeWindow('Frame', 640,480)\n",
    "cv2.resizeWindow('Frame_2', 640,480)\n",
    "# cv2.resizeWindow('Diff Frame', 640,480)\n",
    "cap = cv2.VideoCapture(handWashingVideo)\n",
    "\n",
    "\n",
    "# ret, frame = cap.read()\n",
    "# cap.release()\n",
    "# frame = cv2.imread(\"./sampleImage.jpg\")\n",
    "\n",
    "\n",
    "# frame = cv2.imread(\"./sampleImage.jpg\")\n",
    "# frame = greyWorld(frame)\n",
    "\n",
    "mFrame = get_median_Frame(handWashingVideo)\n",
    "kernel = np.ones((3,3),np.uint8)\n",
    "ret, frame1 = cap.read()\n",
    "\n",
    "\n",
    "prvs = cv2.cvtColor(frame1,cv2.COLOR_BGR2GRAY)\n",
    "# _ , prvs = get_hand_segmented(frame1)\n",
    "\n",
    "\n",
    "while True:\n",
    "    ret, frame = cap.read()\n",
    "    if not ret:\n",
    "        break\n",
    "    \n",
    "    frame, segHand = get_hand_segmented(frame)\n",
    "\n",
    "    cv2.imshow(\"Frame\",frame)\n",
    "    nxt = cv2.cvtColor(frame,cv2.COLOR_BGR2GRAY)\n",
    "    \n",
    "#     nxt = segHand\n",
    "    \n",
    "#     flow = cv2.calcOpticalFlowFarneback(prvs,nxt, None, 0.5, 3, 15, 3, 5, 1.2, 0)\n",
    "    \n",
    "#     mag, ang = cv2.cartToPolar(flow[...,0], flow[...,1])\n",
    "\n",
    "    frame[segHand == 0] = 0\n",
    "    \n",
    "    cv2.imshow('frame2',frame)\n",
    "\n",
    "    cv2.imshow(\"Frame_2\", segHand)\n",
    "    \n",
    "#     segHand[mag < 2] = 0\n",
    "    \n",
    "#     cv2.imshow(\"Frame_3\", segHand)\n",
    "    k = cv2.waitKey(120) & 0xff\n",
    "    \n",
    "    if k ==27:\n",
    "        break\n",
    "    prvs = nxt\n",
    "\n",
    "# cap.release()\n",
    "cv2.destroyAllWindows()"
   ]
  },
  {
   "cell_type": "code",
   "execution_count": null,
   "id": "universal-blond",
   "metadata": {},
   "outputs": [],
   "source": []
  }
 ],
 "metadata": {
  "kernelspec": {
   "display_name": "Python 3",
   "language": "python",
   "name": "python3"
  },
  "language_info": {
   "codemirror_mode": {
    "name": "ipython",
    "version": 3
   },
   "file_extension": ".py",
   "mimetype": "text/x-python",
   "name": "python",
   "nbconvert_exporter": "python",
   "pygments_lexer": "ipython3",
   "version": "3.8.5"
  }
 },
 "nbformat": 4,
 "nbformat_minor": 5
}
