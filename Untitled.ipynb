{
 "cells": [
  {
   "cell_type": "code",
   "execution_count": 1,
   "id": "biblical-gazette",
   "metadata": {},
   "outputs": [],
   "source": [
    "from dataProcessing import read_data\n",
    "from dataProcessing import preProcessing\n"
   ]
  },
  {
   "cell_type": "code",
   "execution_count": 2,
   "id": "experienced-intervention",
   "metadata": {},
   "outputs": [],
   "source": [
    "import os\n",
    "# import matplotlib\n",
    "import matplotlib.pyplot as plt\n",
    "import numpy as np\n",
    "import cv2\n",
    "import datetime\n",
    "from sklearn.model_selection import train_test_split\n",
    "from sklearn import preprocessing\n",
    "import pdb"
   ]
  },
  {
   "cell_type": "code",
   "execution_count": null,
   "id": "bizarre-brass",
   "metadata": {},
   "outputs": [
    {
     "name": "stdout",
     "output_type": "stream",
     "text": [
      "Reading Data\n",
      "########################################\n",
      "200\n",
      "Step_1, done\n",
      "400\n",
      "Step_2_Left, done\n",
      "600\n",
      "Step_2_Right, done\n",
      "800\n",
      "Step_3, done\n",
      "1000\n",
      "Step_4_Left, done\n",
      "1200\n",
      "Step_4_Right, done\n",
      "1400\n",
      "Step_5_Left, done\n",
      "1600\n",
      "Step_5_Right, done\n",
      "1800\n",
      "Step_6_Left, done\n",
      "2000\n",
      "Step_6_Right, done\n",
      "2198\n",
      "Step_7_Left, done\n",
      "2398\n",
      "Step_7_Right, done\n",
      "Data Reading Done\n",
      "###################################3####\n",
      "(2398, 100, 120, 20)\n",
      "(2398, 100, 120, 20, 1)\n"
     ]
    }
   ],
   "source": [
    "img_rows,img_cols,img_depth = 100,100,15\n",
    "\n",
    "print(\"Reading Data\")\n",
    "print(\"########################################\")\n",
    "\n",
    "x_train, y_train = read_data()\n",
    "\n",
    "print(\"Data Reading Done\")\n",
    "print(\"###################################3####\")\n",
    "numOfSamples = len(x_train)\n",
    "\n",
    "print(x_train.shape)\n",
    "\n",
    "x_train = x_train.reshape(x_train.shape[0],x_train.shape[1],x_train.shape[2],x_train.shape[3],1)\n",
    "\n",
    "print(x_train.shape)\n",
    "\n",
    "x_train = x_train.astype('float32')\n",
    "x_train /= 255\n",
    "\n",
    "\n",
    "dataSplitRatio = 0.2\n",
    "validationtRatio = 0.2\n",
    "\n",
    "\n",
    "print(\"Splitting Data\")\n",
    "x_train, x_test, y_train, y_test = train_test_split(x_train,\n",
    "\t\t\t\t\t\t\t\t\t\ty_train, test_size=dataSplitRatio)\n",
    "\n",
    "x_train, x_valid, y_train, y_valid = train_test_split(x_train,\n",
    "\t\t\t\t\t\t\t\t\t\ty_train, test_size=validationtRatio)\n",
    "\n",
    "\n",
    "batch_size = 5\n",
    "nb_classes = 12\n",
    "nb_epoch = 10"
   ]
  },
  {
   "cell_type": "code",
   "execution_count": null,
   "id": "proper-suggestion",
   "metadata": {},
   "outputs": [],
   "source": [
    "from keras.utils.np_utils import to_categorical\n",
    "from keras.models import Sequential, load_model\n",
    "from keras.layers.core import Dense, Dropout, Activation, Flatten\n",
    "from keras.layers.convolutional import Conv3D, MaxPooling3D\n",
    "from keras.layers import BatchNormalization\n",
    "from keras.optimizers import SGD, RMSprop\n",
    "from keras.utils.np_utils import to_categorical\n",
    "from keras.callbacks import TensorBoard\n"
   ]
  },
  {
   "cell_type": "code",
   "execution_count": null,
   "id": "outside-bacteria",
   "metadata": {},
   "outputs": [],
   "source": [
    "y_train = to_categorical(y_train,nb_classes)\n",
    "y_test = to_categorical(y_test,nb_classes)\n",
    "y_valid = to_categorical(y_valid,nb_classes)\n",
    "\n",
    "RMSprob = RMSprop(learning_rate=0.001, rho=0.9, epsilon=None, decay=0.0)"
   ]
  },
  {
   "cell_type": "code",
   "execution_count": null,
   "id": "fiscal-jacket",
   "metadata": {},
   "outputs": [],
   "source": [
    "def modelCNN():\n",
    "    nb_filters = [32,64]\n",
    "    patch_size = 15\n",
    "    model = Sequential()\n",
    "\n",
    "    # print('input shape', img_rows, 'rows', img_cols, 'cols', patch_size, 'patchsize')\n",
    "\n",
    "    model.add(Conv3D(nb_filters[0],(3,3,3),input_shape=(img_rows, img_cols,patch_size,1),activation='relu'))\n",
    "    \n",
    "    model.add(BatchNormalization())\n",
    "    \n",
    "    model.add(MaxPooling3D(pool_size=(2, 2, 2)))\n",
    "    \n",
    "    model.add(BatchNormalization())\n",
    "\n",
    "    model.add(Conv3D(nb_filters[1],(3,3,3),activation='relu'))\n",
    "    \n",
    "    model.add(BatchNormalization(momentum=0.99))\n",
    "\n",
    "    model.add(MaxPooling3D(pool_size=(3, 3, 3)))\n",
    "    \n",
    "    model.add(BatchNormalization())\n",
    "\n",
    "    model.add(Dropout(0.5))\n",
    "\n",
    "    model.add(Flatten())\n",
    "    \n",
    "    model.add(Dense(256))\n",
    "    \n",
    "    model.add(Dropout(0.5))\n",
    "    \n",
    "    model.add(Dense(nb_classes))\n",
    "    \n",
    "    model.add(Activation('softmax'))\n",
    "    \n",
    "    model.compile(loss='categorical_crossentropy', optimizer='RMSprop', metrics=['mse', 'accuracy'])\n",
    "\n",
    "    return model\n",
    "\n"
   ]
  },
  {
   "cell_type": "code",
   "execution_count": null,
   "id": "accessible-springfield",
   "metadata": {
    "scrolled": false
   },
   "outputs": [],
   "source": [
    "model = modelCNN()\n",
    "model.summary()"
   ]
  },
  {
   "cell_type": "code",
   "execution_count": null,
   "id": "educated-moisture",
   "metadata": {},
   "outputs": [],
   "source": []
  }
 ],
 "metadata": {
  "kernelspec": {
   "display_name": "Python 3",
   "language": "python",
   "name": "python3"
  },
  "language_info": {
   "codemirror_mode": {
    "name": "ipython",
    "version": 3
   },
   "file_extension": ".py",
   "mimetype": "text/x-python",
   "name": "python",
   "nbconvert_exporter": "python",
   "pygments_lexer": "ipython3",
   "version": "3.8.5"
  }
 },
 "nbformat": 4,
 "nbformat_minor": 5
}
